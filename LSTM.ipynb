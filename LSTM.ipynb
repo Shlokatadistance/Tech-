{
  "nbformat": 4,
  "nbformat_minor": 0,
  "metadata": {
    "colab": {
      "name": "LSTM.ipynb",
      "provenance": [],
      "collapsed_sections": [],
      "authorship_tag": "ABX9TyMvwSryGS9rRHAqc6+mtsF+",
      "include_colab_link": true
    },
    "kernelspec": {
      "name": "python3",
      "display_name": "Python 3"
    },
    "language_info": {
      "name": "python"
    }
  },
  "cells": [
    {
      "cell_type": "markdown",
      "metadata": {
        "id": "view-in-github",
        "colab_type": "text"
      },
      "source": [
        "<a href=\"https://colab.research.google.com/github/Shlokatadistance/Tech-/blob/main/LSTM.ipynb\" target=\"_parent\"><img src=\"https://colab.research.google.com/assets/colab-badge.svg\" alt=\"Open In Colab\"/></a>"
      ]
    },
    {
      "cell_type": "code",
      "metadata": {
        "colab": {
          "base_uri": "https://localhost:8080/"
        },
        "id": "As0qhGsZamwT",
        "outputId": "4c2c58fd-1261-45ca-8810-cee89721bb4c"
      },
      "source": [
        "pip install alphavantage\n"
      ],
      "execution_count": null,
      "outputs": [
        {
          "output_type": "stream",
          "name": "stdout",
          "text": [
            "Collecting alphavantage\n",
            "  Downloading alphavantage-0.0.11-py36-none-any.whl (9.1 kB)\n",
            "Collecting foil\n",
            "  Downloading foil-0.2.7.tar.gz (13 kB)\n",
            "Requirement already satisfied: requests in /usr/local/lib/python3.7/dist-packages (from alphavantage) (2.23.0)\n",
            "Collecting iso8601\n",
            "  Downloading iso8601-1.0.0-py3-none-any.whl (9.4 kB)\n",
            "Requirement already satisfied: pytz in /usr/local/lib/python3.7/dist-packages (from foil->alphavantage) (2018.9)\n",
            "Requirement already satisfied: pyyaml in /usr/local/lib/python3.7/dist-packages (from foil->alphavantage) (3.13)\n",
            "Requirement already satisfied: certifi>=2017.4.17 in /usr/local/lib/python3.7/dist-packages (from requests->alphavantage) (2021.10.8)\n",
            "Requirement already satisfied: urllib3!=1.25.0,!=1.25.1,<1.26,>=1.21.1 in /usr/local/lib/python3.7/dist-packages (from requests->alphavantage) (1.24.3)\n",
            "Requirement already satisfied: chardet<4,>=3.0.2 in /usr/local/lib/python3.7/dist-packages (from requests->alphavantage) (3.0.4)\n",
            "Requirement already satisfied: idna<3,>=2.5 in /usr/local/lib/python3.7/dist-packages (from requests->alphavantage) (2.10)\n",
            "Building wheels for collected packages: foil\n",
            "  Building wheel for foil (setup.py) ... \u001b[?25l\u001b[?25hdone\n",
            "  Created wheel for foil: filename=foil-0.2.7-py36, py35-none-any.whl size=17258 sha256=3004be6874b7714295698c26505dd3a19794b6aed27f58313cea34406ca36f58\n",
            "  Stored in directory: /root/.cache/pip/wheels/f7/51/12/847c3ca1a496ed87a7d663ecd78e7c7d2c97a4c32b1d6f6640\n",
            "Successfully built foil\n",
            "Installing collected packages: iso8601, foil, alphavantage\n",
            "Successfully installed alphavantage-0.0.11 foil-0.2.7 iso8601-1.0.0\n"
          ]
        }
      ]
    },
    {
      "cell_type": "code",
      "metadata": {
        "id": "cyD2btitbm_l"
      },
      "source": [
        "import pandas as pd\n",
        "import requests"
      ],
      "execution_count": 7,
      "outputs": []
    },
    {
      "cell_type": "code",
      "metadata": {
        "id": "qDlP9JUAbkoX"
      },
      "source": [
        "ticker = 'USDEUR'\n",
        "key = '0D6HAHFDZPJLAL0E'\n",
        "url = 'https://www.alphavantage.co/query?function=TIME_SERIES_DAILY_ADJUSTED&symbol='+ticker+'&outputsize=full&apikey='+key\n",
        "urlData = requests.get(url).json()['Time Series (Daily)']\n",
        "Price_df = pd.DataFrame(urlData).T\n",
        "Price_df = Price_df.drop(columns=['5. adjusted close' , '7. dividend amount', '8. split coefficient'])\n",
        "Price_df = Price_df.astype(float)\n",
        "Price_df = Price_df.iloc[::-1]\n",
        "Price_df.reset_index(inplace=True)\n",
        "Price_df.columns = ['Date', 'Open', 'High', 'Low', 'Close','Volume']\n",
        "Price_df['Date'] = pd.to_datetime(Price_df['Date'])\n",
        "Price_df\n",
        "Price_df.to_csv('/content/data/fx.csv', encoding='utf-8', index=False)\n"
      ],
      "execution_count": 15,
      "outputs": []
    },
    {
      "cell_type": "code",
      "metadata": {
        "id": "Q8WTtvrcW3cc"
      },
      "source": [
        "import os\n",
        "import json\n",
        "import time\n",
        "import math\n",
        "import matplotlib.pyplot as plt\n",
        "from data_processor import DataLoader\n",
        "from model import Model\n",
        "\n"
      ],
      "execution_count": 16,
      "outputs": []
    },
    {
      "cell_type": "code",
      "metadata": {
        "id": "lY03-TpFXYcv"
      },
      "source": [
        "def plot_results(predicted_data, true_data):\n",
        "    fig = plt.figure(facecolor='white')\n",
        "    ax = fig.add_subplot(111)\n",
        "    ax.plot(true_data, label='True Data')\n",
        "    plt.plot(predicted_data, label='Prediction')\n",
        "    plt.legend()\n",
        "    plt.show()\n"
      ],
      "execution_count": 17,
      "outputs": []
    },
    {
      "cell_type": "code",
      "metadata": {
        "id": "6ddeM-jzXaEU"
      },
      "source": [
        "def plot_results_multiple(predicted_data, true_data, prediction_len):\n",
        "    fig = plt.figure(facecolor='white')\n",
        "    ax = fig.add_subplot(111)\n",
        "    ax.plot(true_data, label='True Data')\n",
        "\t# Pad the list of predictions to shift it in the graph to it's correct start\n",
        "    for i, data in enumerate(predicted_data):\n",
        "        padding = [None for p in range(i * prediction_len)]\n",
        "        plt.plot(padding + data, label='Prediction')\n",
        "        plt.legend()\n",
        "    plt.show()"
      ],
      "execution_count": 18,
      "outputs": []
    },
    {
      "cell_type": "code",
      "metadata": {
        "id": "9EFR1rAXXcw5"
      },
      "source": [
        "def accuracy_value(predicted_data,test_data):\n",
        "    updown_prediction = pd.DataFrame({\"Predicted\":predicted_data.reshape(1,len(test_data))[0]})\n",
        "    print(updown_prediction)\n",
        "\n",
        "    updown_actual = pd.DataFrame({\"Actual\":test_data.reshape(1,len(test_data))[0]})\n",
        "    print(updown_actual)\n",
        "\n",
        "    results = []\n",
        "\n",
        "    for i in range(0, len(dataset_test)-1):\n",
        "        predicted_change = (updown_prediction['Predicted'][i+1] / updown_actual['Actual'][i]) - 1.0\n",
        "        actual_change = (updown_actual['Actual'][i+1] / updown_actual['Actual'][i]) - 1.0\n",
        "\n",
        "        if np.sign(predicted_change) == np.sign(actual_change):\n",
        "            results.append(True)\n",
        "        else:\n",
        "            results.append(False)\n",
        "\n",
        "    results.count(True)\n",
        "    results.count(False)\n",
        "\n",
        "    print(results)\n",
        "    print('accuracy: ' + str(results.count(True)/len(results)))\n"
      ],
      "execution_count": 19,
      "outputs": []
    },
    {
      "cell_type": "code",
      "metadata": {
        "colab": {
          "base_uri": "https://localhost:8080/",
          "height": 1000
        },
        "id": "I9IDTRnIXfYp",
        "outputId": "64892305-fa01-45a3-f1fd-afd0ca8a3c95"
      },
      "source": [
        "def main():\n",
        "    configs = json.load(open('config.json', 'r'))\n",
        "    if not os.path.exists(configs['model']['save_dir']): os.makedirs(configs['model']['save_dir'])\n",
        "\n",
        "    data = DataLoader(\n",
        "        os.path.join('data', configs['data']['filename']),\n",
        "        configs['data']['train_test_split'],\n",
        "        configs['data']['columns']\n",
        "    )\n",
        "\n",
        "    model = Model()\n",
        "    model.build_model(configs)\n",
        "    x, y = data.get_train_data(\n",
        "        seq_len=configs['data']['sequence_length'],\n",
        "        normalise=configs['data']['normalise']\n",
        "    )\n",
        "\n",
        "    '''\n",
        "\t# in-memory training\n",
        "\tmodel.train(\n",
        "\t\tx,\n",
        "\t\ty,\n",
        "\t\tepochs = configs['training']['epochs'],\n",
        "\t\tbatch_size = configs['training']['batch_size'],\n",
        "\t\tsave_dir = configs['model']['save_dir']\n",
        "\t)\n",
        "\t'''\n",
        "    # out-of memory generative training\n",
        "    steps_per_epoch = math.ceil((data.len_train - configs['data']['sequence_length']) / configs['training']['batch_size'])\n",
        "    model.train_generator(\n",
        "        data_gen=data.generate_train_batch(\n",
        "            seq_len=configs['data']['sequence_length'],\n",
        "            batch_size=configs['training']['batch_size'],\n",
        "            normalise=configs['data']['normalise']\n",
        "        ),\n",
        "        epochs=configs['training']['epochs'],\n",
        "        batch_size=configs['training']['batch_size'],\n",
        "        steps_per_epoch=steps_per_epoch,\n",
        "        save_dir=configs['model']['save_dir']\n",
        "    )\n",
        "\n",
        "    x_test, y_test = data.get_test_data(\n",
        "        seq_len=configs['data']['sequence_length'],\n",
        "        normalise=configs['data']['normalise']\n",
        "    )\n",
        "\n",
        "    #predictions = model.predict_sequences_multiple(x_test, configs['data']['sequence_length'], configs['data']['sequence_length'])\n",
        "    predictions = model.predict_point_by_point(x_test)\n",
        "    print(predictions)\n",
        "    # predictions = model.predict_sequence_full(x_test, configs['data']['sequence_length'])\n",
        "    # predictions = model.predict_point_by_point(x_test)\n",
        "\n",
        "    #plot_results_multiple(predictions, y_test, configs['data']['sequence_length'])\n",
        "    plot_results(predictions,y_test)\n",
        "    #print(type(x_test),type(predictions))\n",
        "    #print(predictions.shape,x_test.shape)\n",
        "    # plot_results(predictions, y_test)\n",
        "\n",
        "\n",
        "if __name__ == '__main__':\n",
        "    main()"
      ],
      "execution_count": 22,
      "outputs": [
        {
          "output_type": "stream",
          "name": "stdout",
          "text": [
            "[Model] Model Compiled\n",
            "Time taken: 0:00:00.824106\n",
            "[Model] Training Started\n",
            "[Model] 2 epochs, 32 batch size, 48 batches per epoch\n"
          ]
        },
        {
          "output_type": "stream",
          "name": "stderr",
          "text": [
            "/content/model.py:83: UserWarning: `Model.fit_generator` is deprecated and will be removed in a future version. Please use `Model.fit`, which supports generators.\n",
            "  workers=1\n"
          ]
        },
        {
          "output_type": "stream",
          "name": "stdout",
          "text": [
            "Epoch 1/2\n",
            "48/48 [==============================] - 12s 132ms/step - loss: 0.0431\n",
            "Epoch 2/2\n",
            "48/48 [==============================] - 6s 127ms/step - loss: 0.0047\n",
            "[Model] Training Completed. Model saved as saved_models/19112021-043641-e2.h5\n",
            "Time taken: 0:00:18.227998\n",
            "[Model] Predicting Point-by-Point...\n",
            "[0.8226284  0.822322   0.8220614  0.82188535 0.8217821  0.82175845\n",
            " 0.82181203 0.82196844 0.82222366 0.822539   0.8228961  0.82324994\n",
            " 0.8235734  0.82386345 0.82411295 0.8243417  0.8245549  0.82474756\n",
            " 0.8249513  0.82518494 0.82545596 0.8257941  0.8261657  0.826545\n",
            " 0.8268815  0.8271534  0.8273469  0.82746905 0.82752645 0.8275395\n",
            " 0.8275509  0.8275597  0.82755506 0.8275153  0.8274375  0.8273171\n",
            " 0.82715446 0.82700205 0.8268976  0.8268369  0.82682616 0.82690156\n",
            " 0.82709855 0.82745004 0.82792604 0.8284791  0.8290451  0.82960016\n",
            " 0.8301374  0.8306616  0.8311351  0.83157027 0.8319773  0.8323463\n",
            " 0.83271044 0.8331003  0.83354366 0.8340346  0.83457124 0.8351631\n",
            " 0.8357988  0.8364365  0.8370547  0.8376137  0.8380699  0.8384088\n",
            " 0.83861196 0.8386886  0.83865315 0.8385101  0.8382602  0.83792627\n",
            " 0.8375292  0.8370625  0.8365379  0.83597285 0.83539647 0.83479464\n",
            " 0.83417493 0.8335474  0.8329089  0.8322675  0.8316812  0.831158\n",
            " 0.83072525 0.83039206 0.83012986 0.82987446 0.82961017 0.8293249\n",
            " 0.82905215 0.8288062  0.8285666  0.82832074 0.82803416 0.82771796\n",
            " 0.8273612  0.82698953 0.8266039  0.8261961  0.8257921  0.8254104\n",
            " 0.82506394 0.82474136 0.8244448  0.82417697 0.8239756  0.8238376\n",
            " 0.8237429  0.8236862  0.8236569  0.8236503  0.8236933  0.8237853\n",
            " 0.8239141  0.8241304  0.82448655 0.82500905 0.8256614  0.8263921\n",
            " 0.82716185 0.8279393  0.8286962  0.82941777 0.8301049  0.830772\n",
            " 0.8314268  0.8320589  0.83266217 0.8332472  0.83382803 0.83438414\n",
            " 0.83488697 0.83532953 0.83574814 0.83613056 0.8364849  0.8368188\n",
            " 0.83713657 0.8374461  0.83774304 0.83803505 0.8383262  0.8385985\n",
            " 0.8388345  0.8390156  0.839117   0.8391436  0.839104   0.8390124\n",
            " 0.838897   0.83877784 0.8386991  0.838692   0.8387718  0.83892626\n",
            " 0.83914155 0.8393756  0.83960855 0.8398585  0.84013045 0.8404351\n",
            " 0.8407602  0.8410737  0.84135216 0.8415784  0.8417555  0.8418668\n",
            " 0.8419113  0.8418895  0.84179646 0.8416222  0.8413675  0.8410533\n",
            " 0.8407119  0.8403795  0.84007215 0.839805   0.83958465 0.8394137\n",
            " 0.8392849  0.8392126  0.83921796 0.83930564 0.8394655  0.83969784\n",
            " 0.83996886 0.8402672  0.8405849  0.8409221  0.8413135  0.8417756\n",
            " 0.8422968  0.8428454  0.843409   0.8439922  0.84458786 0.8451812\n",
            " 0.8457629  0.8463351  0.84686166 0.8473245  0.8477141  0.84802574\n",
            " 0.848252   0.84839    0.8484561  0.84845835 0.8484237  0.84837747\n",
            " 0.84833044 0.848252   0.84819025 0.8481456  0.8481293  0.8481252\n",
            " 0.8481543  0.84821856 0.8483032  0.8483938  0.8485367  0.84876066\n",
            " 0.84907234 0.84949917 0.85005856 0.8507412 ]\n"
          ]
        },
        {
          "output_type": "display_data",
          "data": {
            "image/png": "[encoded data removed]",
            "text/plain": [
              "<Figure size 432x288 with 1 Axes>"
            ]
          },
          "metadata": {}
        }
      ]
    }
  ]
}